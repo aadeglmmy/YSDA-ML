{
 "cells": [
  {
   "cell_type": "markdown",
   "metadata": {},
   "source": [
    "## Лабораторная работа 2. Линейные модели"
   ]
  },
  {
   "cell_type": "markdown",
   "metadata": {},
   "source": [
    "Некоторые задачи в этом ноутбуке надо будет сдавать в [контест](https://contest.yandex.ru/contest/68191/enter). Когда сдаете туда код, не забудьте сверху прописать все нужные импорты."
   ]
  },
  {
   "cell_type": "markdown",
   "metadata": {},
   "source": [
    "> Мы рассчитываем, что перед тем, как садиться за этот ноутбук, вы прослушали лекции про МНК, регрессию и регуляризацию или прочитали часть про регрессию главы \"Линейные модели\" ШАДовского учебника по ML."
   ]
  },
  {
   "cell_type": "markdown",
   "metadata": {},
   "source": [
    "Начнём с загрузки необходимых библиотек и функций.\n",
    "Параметр `seed` будет использоваться далее для инициализации генератора случайных чисел из библиотеки `numpy`."
   ]
  },
  {
   "cell_type": "code",
   "execution_count": 1,
   "metadata": {
    "pycharm": {
     "name": "#%%\n"
    }
   },
   "outputs": [],
   "source": [
    "import numpy as np\n",
    "import pandas as pd\n",
    "from typing import Optional, List\n",
    "\n",
    "import sklearn.base\n",
    "\n",
    "from sklearn.model_selection import train_test_split\n",
    "\n",
    "from sklearn.base import TransformerMixin\n",
    "\n",
    "from sklearn.preprocessing import StandardScaler\n",
    "\n",
    "from sklearn.linear_model import LinearRegression\n",
    "\n",
    "from sklearn.metrics import mean_absolute_error\n",
    "\n",
    "from sklearn.linear_model import Ridge\n",
    "\n",
    "import matplotlib.pyplot as plt\n",
    "\n",
    "from sklearn.base import BaseEstimator, RegressorMixin\n",
    "\n",
    "from sklearn.model_selection import cross_val_score, KFold\n",
    "\n",
    "from sklearn.metrics import make_scorer, mean_absolute_error\n",
    "\n",
    "seed = 24"
   ]
  },
  {
   "cell_type": "markdown",
   "metadata": {},
   "source": [
    "В этом ноутбуке мы будем практиковаться на датасете [\"The Ames Iowa Housing Data\"](https://www.openml.org/d/41211). Здесь собраны описания и цены жилья в городе Эймс, штат Айова. Мы будем решать задачу предсказания цены (`Sale_Price`) по всем остальным признакам.\n",
    "\n",
    "И начнём мы, конечно, с того, что внимательно посмотрим на датасет: какие там есть объекты и какие признаки."
   ]
  },
  {
   "cell_type": "code",
   "execution_count": 2,
   "metadata": {
    "pycharm": {
     "name": "#%%\n"
    }
   },
   "outputs": [],
   "source": [
    "## Uncomment the line below to download data and install necessary packages\n",
    "## Maybe won't work on Windows :(\n",
    "\n",
    "# !pip install numpy pandas sklearn matplotlib\n",
    "# !curl https://api.openml.org/data/get_csv/20649135/file2ed11cebe25.arff > data.csv"
   ]
  },
  {
   "cell_type": "code",
   "execution_count": 3,
   "metadata": {
    "pycharm": {
     "name": "#%%\n"
    }
   },
   "outputs": [
    {
     "data": {
      "text/html": [
       "<div>\n",
       "<style scoped>\n",
       "    .dataframe tbody tr th:only-of-type {\n",
       "        vertical-align: middle;\n",
       "    }\n",
       "\n",
       "    .dataframe tbody tr th {\n",
       "        vertical-align: top;\n",
       "    }\n",
       "\n",
       "    .dataframe thead th {\n",
       "        text-align: right;\n",
       "    }\n",
       "</style>\n",
       "<table border=\"1\" class=\"dataframe\">\n",
       "  <thead>\n",
       "    <tr style=\"text-align: right;\">\n",
       "      <th></th>\n",
       "      <th>MS_SubClass</th>\n",
       "      <th>MS_Zoning</th>\n",
       "      <th>Lot_Frontage</th>\n",
       "      <th>Lot_Area</th>\n",
       "      <th>Street</th>\n",
       "      <th>Alley</th>\n",
       "      <th>Lot_Shape</th>\n",
       "      <th>Land_Contour</th>\n",
       "      <th>Utilities</th>\n",
       "      <th>Lot_Config</th>\n",
       "      <th>...</th>\n",
       "      <th>Fence</th>\n",
       "      <th>Misc_Feature</th>\n",
       "      <th>Misc_Val</th>\n",
       "      <th>Mo_Sold</th>\n",
       "      <th>Year_Sold</th>\n",
       "      <th>Sale_Type</th>\n",
       "      <th>Sale_Condition</th>\n",
       "      <th>Sale_Price</th>\n",
       "      <th>Longitude</th>\n",
       "      <th>Latitude</th>\n",
       "    </tr>\n",
       "  </thead>\n",
       "  <tbody>\n",
       "    <tr>\n",
       "      <th>2353</th>\n",
       "      <td>Two_Story_1946_and_Newer</td>\n",
       "      <td>Floating_Village_Residential</td>\n",
       "      <td>75</td>\n",
       "      <td>9512</td>\n",
       "      <td>Pave</td>\n",
       "      <td>No_Alley_Access</td>\n",
       "      <td>Slightly_Irregular</td>\n",
       "      <td>Lvl</td>\n",
       "      <td>AllPub</td>\n",
       "      <td>Inside</td>\n",
       "      <td>...</td>\n",
       "      <td>No_Fence</td>\n",
       "      <td>NaN</td>\n",
       "      <td>0</td>\n",
       "      <td>6</td>\n",
       "      <td>2006</td>\n",
       "      <td>New</td>\n",
       "      <td>Partial</td>\n",
       "      <td>294323</td>\n",
       "      <td>-93.639516</td>\n",
       "      <td>42.051077</td>\n",
       "    </tr>\n",
       "    <tr>\n",
       "      <th>2226</th>\n",
       "      <td>One_Story_1946_and_Newer_All_Styles</td>\n",
       "      <td>Residential_Low_Density</td>\n",
       "      <td>0</td>\n",
       "      <td>17871</td>\n",
       "      <td>Pave</td>\n",
       "      <td>No_Alley_Access</td>\n",
       "      <td>Moderately_Irregular</td>\n",
       "      <td>Lvl</td>\n",
       "      <td>AllPub</td>\n",
       "      <td>Inside</td>\n",
       "      <td>...</td>\n",
       "      <td>No_Fence</td>\n",
       "      <td>NaN</td>\n",
       "      <td>0</td>\n",
       "      <td>6</td>\n",
       "      <td>2007</td>\n",
       "      <td>WD</td>\n",
       "      <td>Normal</td>\n",
       "      <td>170000</td>\n",
       "      <td>-93.644923</td>\n",
       "      <td>42.011836</td>\n",
       "    </tr>\n",
       "    <tr>\n",
       "      <th>910</th>\n",
       "      <td>Two_Story_1945_and_Older</td>\n",
       "      <td>Residential_Low_Density</td>\n",
       "      <td>43</td>\n",
       "      <td>5707</td>\n",
       "      <td>Pave</td>\n",
       "      <td>No_Alley_Access</td>\n",
       "      <td>Regular</td>\n",
       "      <td>Bnk</td>\n",
       "      <td>AllPub</td>\n",
       "      <td>Inside</td>\n",
       "      <td>...</td>\n",
       "      <td>No_Fence</td>\n",
       "      <td>NaN</td>\n",
       "      <td>0</td>\n",
       "      <td>3</td>\n",
       "      <td>2009</td>\n",
       "      <td>WD</td>\n",
       "      <td>Normal</td>\n",
       "      <td>105000</td>\n",
       "      <td>-93.646555</td>\n",
       "      <td>42.019094</td>\n",
       "    </tr>\n",
       "    <tr>\n",
       "      <th>2262</th>\n",
       "      <td>One_Story_1946_and_Newer_All_Styles</td>\n",
       "      <td>Residential_Low_Density</td>\n",
       "      <td>89</td>\n",
       "      <td>10991</td>\n",
       "      <td>Pave</td>\n",
       "      <td>No_Alley_Access</td>\n",
       "      <td>Slightly_Irregular</td>\n",
       "      <td>HLS</td>\n",
       "      <td>AllPub</td>\n",
       "      <td>Inside</td>\n",
       "      <td>...</td>\n",
       "      <td>No_Fence</td>\n",
       "      <td>NaN</td>\n",
       "      <td>0</td>\n",
       "      <td>12</td>\n",
       "      <td>2007</td>\n",
       "      <td>New</td>\n",
       "      <td>Partial</td>\n",
       "      <td>239000</td>\n",
       "      <td>-93.651732</td>\n",
       "      <td>41.994824</td>\n",
       "    </tr>\n",
       "    <tr>\n",
       "      <th>2281</th>\n",
       "      <td>Duplex_All_Styles_and_Ages</td>\n",
       "      <td>Residential_Low_Density</td>\n",
       "      <td>100</td>\n",
       "      <td>25000</td>\n",
       "      <td>Pave</td>\n",
       "      <td>No_Alley_Access</td>\n",
       "      <td>Regular</td>\n",
       "      <td>Low</td>\n",
       "      <td>AllPub</td>\n",
       "      <td>Inside</td>\n",
       "      <td>...</td>\n",
       "      <td>No_Fence</td>\n",
       "      <td>NaN</td>\n",
       "      <td>0</td>\n",
       "      <td>6</td>\n",
       "      <td>2007</td>\n",
       "      <td>WD</td>\n",
       "      <td>Normal</td>\n",
       "      <td>143000</td>\n",
       "      <td>-93.607281</td>\n",
       "      <td>41.992792</td>\n",
       "    </tr>\n",
       "    <tr>\n",
       "      <th>1587</th>\n",
       "      <td>One_Story_1946_and_Newer_All_Styles</td>\n",
       "      <td>Residential_Low_Density</td>\n",
       "      <td>85</td>\n",
       "      <td>11447</td>\n",
       "      <td>Pave</td>\n",
       "      <td>No_Alley_Access</td>\n",
       "      <td>Slightly_Irregular</td>\n",
       "      <td>Lvl</td>\n",
       "      <td>AllPub</td>\n",
       "      <td>Inside</td>\n",
       "      <td>...</td>\n",
       "      <td>No_Fence</td>\n",
       "      <td>NaN</td>\n",
       "      <td>0</td>\n",
       "      <td>6</td>\n",
       "      <td>2008</td>\n",
       "      <td>WD</td>\n",
       "      <td>Normal</td>\n",
       "      <td>370000</td>\n",
       "      <td>-93.647214</td>\n",
       "      <td>41.993611</td>\n",
       "    </tr>\n",
       "    <tr>\n",
       "      <th>2899</th>\n",
       "      <td>One_Story_1946_and_Newer_All_Styles</td>\n",
       "      <td>Residential_Low_Density</td>\n",
       "      <td>85</td>\n",
       "      <td>14331</td>\n",
       "      <td>Pave</td>\n",
       "      <td>No_Alley_Access</td>\n",
       "      <td>Regular</td>\n",
       "      <td>Lvl</td>\n",
       "      <td>AllPub</td>\n",
       "      <td>Inside</td>\n",
       "      <td>...</td>\n",
       "      <td>No_Fence</td>\n",
       "      <td>NaN</td>\n",
       "      <td>0</td>\n",
       "      <td>5</td>\n",
       "      <td>2006</td>\n",
       "      <td>WD</td>\n",
       "      <td>Normal</td>\n",
       "      <td>312500</td>\n",
       "      <td>-93.646758</td>\n",
       "      <td>41.994347</td>\n",
       "    </tr>\n",
       "    <tr>\n",
       "      <th>1144</th>\n",
       "      <td>Two_Story_1946_and_Newer</td>\n",
       "      <td>Residential_Low_Density</td>\n",
       "      <td>75</td>\n",
       "      <td>8285</td>\n",
       "      <td>Pave</td>\n",
       "      <td>No_Alley_Access</td>\n",
       "      <td>Regular</td>\n",
       "      <td>Lvl</td>\n",
       "      <td>AllPub</td>\n",
       "      <td>Corner</td>\n",
       "      <td>...</td>\n",
       "      <td>No_Fence</td>\n",
       "      <td>NaN</td>\n",
       "      <td>0</td>\n",
       "      <td>5</td>\n",
       "      <td>2008</td>\n",
       "      <td>WD</td>\n",
       "      <td>Normal</td>\n",
       "      <td>175000</td>\n",
       "      <td>-93.687819</td>\n",
       "      <td>42.034535</td>\n",
       "    </tr>\n",
       "    <tr>\n",
       "      <th>424</th>\n",
       "      <td>One_Story_1946_and_Newer_All_Styles</td>\n",
       "      <td>Residential_Low_Density</td>\n",
       "      <td>108</td>\n",
       "      <td>13173</td>\n",
       "      <td>Pave</td>\n",
       "      <td>No_Alley_Access</td>\n",
       "      <td>Slightly_Irregular</td>\n",
       "      <td>Lvl</td>\n",
       "      <td>AllPub</td>\n",
       "      <td>Corner</td>\n",
       "      <td>...</td>\n",
       "      <td>No_Fence</td>\n",
       "      <td>NaN</td>\n",
       "      <td>0</td>\n",
       "      <td>11</td>\n",
       "      <td>2009</td>\n",
       "      <td>WD</td>\n",
       "      <td>Normal</td>\n",
       "      <td>325000</td>\n",
       "      <td>-93.657483</td>\n",
       "      <td>42.061280</td>\n",
       "    </tr>\n",
       "    <tr>\n",
       "      <th>2134</th>\n",
       "      <td>One_Story_1946_and_Newer_All_Styles</td>\n",
       "      <td>Residential_Low_Density</td>\n",
       "      <td>97</td>\n",
       "      <td>11800</td>\n",
       "      <td>Pave</td>\n",
       "      <td>No_Alley_Access</td>\n",
       "      <td>Slightly_Irregular</td>\n",
       "      <td>Bnk</td>\n",
       "      <td>AllPub</td>\n",
       "      <td>Inside</td>\n",
       "      <td>...</td>\n",
       "      <td>No_Fence</td>\n",
       "      <td>NaN</td>\n",
       "      <td>0</td>\n",
       "      <td>8</td>\n",
       "      <td>2007</td>\n",
       "      <td>WD</td>\n",
       "      <td>Family</td>\n",
       "      <td>131000</td>\n",
       "      <td>-93.684962</td>\n",
       "      <td>42.021992</td>\n",
       "    </tr>\n",
       "    <tr>\n",
       "      <th>2877</th>\n",
       "      <td>One_and_Half_Story_Finished_All_Ages</td>\n",
       "      <td>Residential_Medium_Density</td>\n",
       "      <td>75</td>\n",
       "      <td>9060</td>\n",
       "      <td>Pave</td>\n",
       "      <td>No_Alley_Access</td>\n",
       "      <td>Regular</td>\n",
       "      <td>Lvl</td>\n",
       "      <td>AllPub</td>\n",
       "      <td>Inside</td>\n",
       "      <td>...</td>\n",
       "      <td>No_Fence</td>\n",
       "      <td>NaN</td>\n",
       "      <td>0</td>\n",
       "      <td>4</td>\n",
       "      <td>2006</td>\n",
       "      <td>WD</td>\n",
       "      <td>Normal</td>\n",
       "      <td>139000</td>\n",
       "      <td>-93.625147</td>\n",
       "      <td>42.021530</td>\n",
       "    </tr>\n",
       "    <tr>\n",
       "      <th>2740</th>\n",
       "      <td>One_Story_1946_and_Newer_All_Styles</td>\n",
       "      <td>Residential_Low_Density</td>\n",
       "      <td>70</td>\n",
       "      <td>10519</td>\n",
       "      <td>Pave</td>\n",
       "      <td>No_Alley_Access</td>\n",
       "      <td>Regular</td>\n",
       "      <td>Lvl</td>\n",
       "      <td>AllPub</td>\n",
       "      <td>Inside</td>\n",
       "      <td>...</td>\n",
       "      <td>No_Fence</td>\n",
       "      <td>NaN</td>\n",
       "      <td>0</td>\n",
       "      <td>3</td>\n",
       "      <td>2006</td>\n",
       "      <td>WD</td>\n",
       "      <td>Normal</td>\n",
       "      <td>137000</td>\n",
       "      <td>-93.667188</td>\n",
       "      <td>42.025524</td>\n",
       "    </tr>\n",
       "    <tr>\n",
       "      <th>906</th>\n",
       "      <td>One_and_Half_Story_Finished_All_Ages</td>\n",
       "      <td>Residential_High_Density</td>\n",
       "      <td>55</td>\n",
       "      <td>4500</td>\n",
       "      <td>Pave</td>\n",
       "      <td>Paved</td>\n",
       "      <td>Moderately_Irregular</td>\n",
       "      <td>Bnk</td>\n",
       "      <td>AllPub</td>\n",
       "      <td>Inside</td>\n",
       "      <td>...</td>\n",
       "      <td>No_Fence</td>\n",
       "      <td>NaN</td>\n",
       "      <td>0</td>\n",
       "      <td>7</td>\n",
       "      <td>2009</td>\n",
       "      <td>WD</td>\n",
       "      <td>Abnorml</td>\n",
       "      <td>159434</td>\n",
       "      <td>-93.652027</td>\n",
       "      <td>42.019713</td>\n",
       "    </tr>\n",
       "    <tr>\n",
       "      <th>1162</th>\n",
       "      <td>Two_Story_PUD_1946_and_Newer</td>\n",
       "      <td>Floating_Village_Residential</td>\n",
       "      <td>30</td>\n",
       "      <td>3180</td>\n",
       "      <td>Pave</td>\n",
       "      <td>Paved</td>\n",
       "      <td>Regular</td>\n",
       "      <td>Lvl</td>\n",
       "      <td>AllPub</td>\n",
       "      <td>Inside</td>\n",
       "      <td>...</td>\n",
       "      <td>No_Fence</td>\n",
       "      <td>NaN</td>\n",
       "      <td>0</td>\n",
       "      <td>5</td>\n",
       "      <td>2008</td>\n",
       "      <td>WD</td>\n",
       "      <td>Normal</td>\n",
       "      <td>165000</td>\n",
       "      <td>-93.644890</td>\n",
       "      <td>42.047806</td>\n",
       "    </tr>\n",
       "    <tr>\n",
       "      <th>2923</th>\n",
       "      <td>One_Story_1946_and_Newer_All_Styles</td>\n",
       "      <td>Residential_Low_Density</td>\n",
       "      <td>80</td>\n",
       "      <td>17400</td>\n",
       "      <td>Pave</td>\n",
       "      <td>No_Alley_Access</td>\n",
       "      <td>Regular</td>\n",
       "      <td>Low</td>\n",
       "      <td>AllPub</td>\n",
       "      <td>Inside</td>\n",
       "      <td>...</td>\n",
       "      <td>No_Fence</td>\n",
       "      <td>NaN</td>\n",
       "      <td>0</td>\n",
       "      <td>5</td>\n",
       "      <td>2006</td>\n",
       "      <td>WD</td>\n",
       "      <td>Normal</td>\n",
       "      <td>160000</td>\n",
       "      <td>-93.608688</td>\n",
       "      <td>41.988737</td>\n",
       "    </tr>\n",
       "    <tr>\n",
       "      <th>1028</th>\n",
       "      <td>One_Story_1946_and_Newer_All_Styles</td>\n",
       "      <td>Residential_Low_Density</td>\n",
       "      <td>104</td>\n",
       "      <td>11361</td>\n",
       "      <td>Pave</td>\n",
       "      <td>No_Alley_Access</td>\n",
       "      <td>Regular</td>\n",
       "      <td>Lvl</td>\n",
       "      <td>AllPub</td>\n",
       "      <td>Inside</td>\n",
       "      <td>...</td>\n",
       "      <td>Minimum_Privacy</td>\n",
       "      <td>NaN</td>\n",
       "      <td>0</td>\n",
       "      <td>5</td>\n",
       "      <td>2008</td>\n",
       "      <td>COD</td>\n",
       "      <td>Abnorml</td>\n",
       "      <td>180000</td>\n",
       "      <td>-93.633905</td>\n",
       "      <td>42.050679</td>\n",
       "    </tr>\n",
       "    <tr>\n",
       "      <th>1642</th>\n",
       "      <td>One_Story_1946_and_Newer_All_Styles</td>\n",
       "      <td>Residential_Low_Density</td>\n",
       "      <td>81</td>\n",
       "      <td>13870</td>\n",
       "      <td>Pave</td>\n",
       "      <td>No_Alley_Access</td>\n",
       "      <td>Slightly_Irregular</td>\n",
       "      <td>HLS</td>\n",
       "      <td>AllPub</td>\n",
       "      <td>Inside</td>\n",
       "      <td>...</td>\n",
       "      <td>No_Fence</td>\n",
       "      <td>NaN</td>\n",
       "      <td>0</td>\n",
       "      <td>10</td>\n",
       "      <td>2007</td>\n",
       "      <td>New</td>\n",
       "      <td>Partial</td>\n",
       "      <td>455000</td>\n",
       "      <td>-93.628723</td>\n",
       "      <td>42.058996</td>\n",
       "    </tr>\n",
       "    <tr>\n",
       "      <th>819</th>\n",
       "      <td>One_Story_1946_and_Newer_All_Styles</td>\n",
       "      <td>Residential_Low_Density</td>\n",
       "      <td>79</td>\n",
       "      <td>10637</td>\n",
       "      <td>Pave</td>\n",
       "      <td>No_Alley_Access</td>\n",
       "      <td>Regular</td>\n",
       "      <td>Lvl</td>\n",
       "      <td>AllPub</td>\n",
       "      <td>Inside</td>\n",
       "      <td>...</td>\n",
       "      <td>No_Fence</td>\n",
       "      <td>NaN</td>\n",
       "      <td>0</td>\n",
       "      <td>9</td>\n",
       "      <td>2009</td>\n",
       "      <td>WD</td>\n",
       "      <td>Normal</td>\n",
       "      <td>297000</td>\n",
       "      <td>-93.688859</td>\n",
       "      <td>42.026482</td>\n",
       "    </tr>\n",
       "    <tr>\n",
       "      <th>2806</th>\n",
       "      <td>Two_Story_1946_and_Newer</td>\n",
       "      <td>Residential_Low_Density</td>\n",
       "      <td>41</td>\n",
       "      <td>12393</td>\n",
       "      <td>Pave</td>\n",
       "      <td>No_Alley_Access</td>\n",
       "      <td>Moderately_Irregular</td>\n",
       "      <td>Lvl</td>\n",
       "      <td>AllPub</td>\n",
       "      <td>FR2</td>\n",
       "      <td>...</td>\n",
       "      <td>No_Fence</td>\n",
       "      <td>NaN</td>\n",
       "      <td>0</td>\n",
       "      <td>9</td>\n",
       "      <td>2006</td>\n",
       "      <td>WD</td>\n",
       "      <td>Normal</td>\n",
       "      <td>195000</td>\n",
       "      <td>-93.687685</td>\n",
       "      <td>42.016092</td>\n",
       "    </tr>\n",
       "    <tr>\n",
       "      <th>1799</th>\n",
       "      <td>Two_Story_1946_and_Newer</td>\n",
       "      <td>Floating_Village_Residential</td>\n",
       "      <td>112</td>\n",
       "      <td>12217</td>\n",
       "      <td>Pave</td>\n",
       "      <td>No_Alley_Access</td>\n",
       "      <td>Slightly_Irregular</td>\n",
       "      <td>Lvl</td>\n",
       "      <td>AllPub</td>\n",
       "      <td>Inside</td>\n",
       "      <td>...</td>\n",
       "      <td>No_Fence</td>\n",
       "      <td>NaN</td>\n",
       "      <td>0</td>\n",
       "      <td>12</td>\n",
       "      <td>2007</td>\n",
       "      <td>New</td>\n",
       "      <td>Partial</td>\n",
       "      <td>310013</td>\n",
       "      <td>-93.648742</td>\n",
       "      <td>42.051681</td>\n",
       "    </tr>\n",
       "  </tbody>\n",
       "</table>\n",
       "<p>20 rows × 81 columns</p>\n",
       "</div>"
      ],
      "text/plain": [
       "                               MS_SubClass                     MS_Zoning  \\\n",
       "2353              Two_Story_1946_and_Newer  Floating_Village_Residential   \n",
       "2226   One_Story_1946_and_Newer_All_Styles       Residential_Low_Density   \n",
       "910               Two_Story_1945_and_Older       Residential_Low_Density   \n",
       "2262   One_Story_1946_and_Newer_All_Styles       Residential_Low_Density   \n",
       "2281            Duplex_All_Styles_and_Ages       Residential_Low_Density   \n",
       "1587   One_Story_1946_and_Newer_All_Styles       Residential_Low_Density   \n",
       "2899   One_Story_1946_and_Newer_All_Styles       Residential_Low_Density   \n",
       "1144              Two_Story_1946_and_Newer       Residential_Low_Density   \n",
       "424    One_Story_1946_and_Newer_All_Styles       Residential_Low_Density   \n",
       "2134   One_Story_1946_and_Newer_All_Styles       Residential_Low_Density   \n",
       "2877  One_and_Half_Story_Finished_All_Ages    Residential_Medium_Density   \n",
       "2740   One_Story_1946_and_Newer_All_Styles       Residential_Low_Density   \n",
       "906   One_and_Half_Story_Finished_All_Ages      Residential_High_Density   \n",
       "1162          Two_Story_PUD_1946_and_Newer  Floating_Village_Residential   \n",
       "2923   One_Story_1946_and_Newer_All_Styles       Residential_Low_Density   \n",
       "1028   One_Story_1946_and_Newer_All_Styles       Residential_Low_Density   \n",
       "1642   One_Story_1946_and_Newer_All_Styles       Residential_Low_Density   \n",
       "819    One_Story_1946_and_Newer_All_Styles       Residential_Low_Density   \n",
       "2806              Two_Story_1946_and_Newer       Residential_Low_Density   \n",
       "1799              Two_Story_1946_and_Newer  Floating_Village_Residential   \n",
       "\n",
       "      Lot_Frontage  Lot_Area Street            Alley             Lot_Shape  \\\n",
       "2353            75      9512   Pave  No_Alley_Access    Slightly_Irregular   \n",
       "2226             0     17871   Pave  No_Alley_Access  Moderately_Irregular   \n",
       "910             43      5707   Pave  No_Alley_Access               Regular   \n",
       "2262            89     10991   Pave  No_Alley_Access    Slightly_Irregular   \n",
       "2281           100     25000   Pave  No_Alley_Access               Regular   \n",
       "1587            85     11447   Pave  No_Alley_Access    Slightly_Irregular   \n",
       "2899            85     14331   Pave  No_Alley_Access               Regular   \n",
       "1144            75      8285   Pave  No_Alley_Access               Regular   \n",
       "424            108     13173   Pave  No_Alley_Access    Slightly_Irregular   \n",
       "2134            97     11800   Pave  No_Alley_Access    Slightly_Irregular   \n",
       "2877            75      9060   Pave  No_Alley_Access               Regular   \n",
       "2740            70     10519   Pave  No_Alley_Access               Regular   \n",
       "906             55      4500   Pave            Paved  Moderately_Irregular   \n",
       "1162            30      3180   Pave            Paved               Regular   \n",
       "2923            80     17400   Pave  No_Alley_Access               Regular   \n",
       "1028           104     11361   Pave  No_Alley_Access               Regular   \n",
       "1642            81     13870   Pave  No_Alley_Access    Slightly_Irregular   \n",
       "819             79     10637   Pave  No_Alley_Access               Regular   \n",
       "2806            41     12393   Pave  No_Alley_Access  Moderately_Irregular   \n",
       "1799           112     12217   Pave  No_Alley_Access    Slightly_Irregular   \n",
       "\n",
       "     Land_Contour Utilities Lot_Config  ...            Fence Misc_Feature  \\\n",
       "2353          Lvl    AllPub     Inside  ...         No_Fence          NaN   \n",
       "2226          Lvl    AllPub     Inside  ...         No_Fence          NaN   \n",
       "910           Bnk    AllPub     Inside  ...         No_Fence          NaN   \n",
       "2262          HLS    AllPub     Inside  ...         No_Fence          NaN   \n",
       "2281          Low    AllPub     Inside  ...         No_Fence          NaN   \n",
       "1587          Lvl    AllPub     Inside  ...         No_Fence          NaN   \n",
       "2899          Lvl    AllPub     Inside  ...         No_Fence          NaN   \n",
       "1144          Lvl    AllPub     Corner  ...         No_Fence          NaN   \n",
       "424           Lvl    AllPub     Corner  ...         No_Fence          NaN   \n",
       "2134          Bnk    AllPub     Inside  ...         No_Fence          NaN   \n",
       "2877          Lvl    AllPub     Inside  ...         No_Fence          NaN   \n",
       "2740          Lvl    AllPub     Inside  ...         No_Fence          NaN   \n",
       "906           Bnk    AllPub     Inside  ...         No_Fence          NaN   \n",
       "1162          Lvl    AllPub     Inside  ...         No_Fence          NaN   \n",
       "2923          Low    AllPub     Inside  ...         No_Fence          NaN   \n",
       "1028          Lvl    AllPub     Inside  ...  Minimum_Privacy          NaN   \n",
       "1642          HLS    AllPub     Inside  ...         No_Fence          NaN   \n",
       "819           Lvl    AllPub     Inside  ...         No_Fence          NaN   \n",
       "2806          Lvl    AllPub        FR2  ...         No_Fence          NaN   \n",
       "1799          Lvl    AllPub     Inside  ...         No_Fence          NaN   \n",
       "\n",
       "     Misc_Val Mo_Sold Year_Sold Sale_Type Sale_Condition Sale_Price  \\\n",
       "2353        0       6      2006       New        Partial     294323   \n",
       "2226        0       6      2007       WD          Normal     170000   \n",
       "910         0       3      2009       WD          Normal     105000   \n",
       "2262        0      12      2007       New        Partial     239000   \n",
       "2281        0       6      2007       WD          Normal     143000   \n",
       "1587        0       6      2008       WD          Normal     370000   \n",
       "2899        0       5      2006       WD          Normal     312500   \n",
       "1144        0       5      2008       WD          Normal     175000   \n",
       "424         0      11      2009       WD          Normal     325000   \n",
       "2134        0       8      2007       WD          Family     131000   \n",
       "2877        0       4      2006       WD          Normal     139000   \n",
       "2740        0       3      2006       WD          Normal     137000   \n",
       "906         0       7      2009       WD         Abnorml     159434   \n",
       "1162        0       5      2008       WD          Normal     165000   \n",
       "2923        0       5      2006       WD          Normal     160000   \n",
       "1028        0       5      2008       COD        Abnorml     180000   \n",
       "1642        0      10      2007       New        Partial     455000   \n",
       "819         0       9      2009       WD          Normal     297000   \n",
       "2806        0       9      2006       WD          Normal     195000   \n",
       "1799        0      12      2007       New        Partial     310013   \n",
       "\n",
       "      Longitude   Latitude  \n",
       "2353 -93.639516  42.051077  \n",
       "2226 -93.644923  42.011836  \n",
       "910  -93.646555  42.019094  \n",
       "2262 -93.651732  41.994824  \n",
       "2281 -93.607281  41.992792  \n",
       "1587 -93.647214  41.993611  \n",
       "2899 -93.646758  41.994347  \n",
       "1144 -93.687819  42.034535  \n",
       "424  -93.657483  42.061280  \n",
       "2134 -93.684962  42.021992  \n",
       "2877 -93.625147  42.021530  \n",
       "2740 -93.667188  42.025524  \n",
       "906  -93.652027  42.019713  \n",
       "1162 -93.644890  42.047806  \n",
       "2923 -93.608688  41.988737  \n",
       "1028 -93.633905  42.050679  \n",
       "1642 -93.628723  42.058996  \n",
       "819  -93.688859  42.026482  \n",
       "2806 -93.687685  42.016092  \n",
       "1799 -93.648742  42.051681  \n",
       "\n",
       "[20 rows x 81 columns]"
      ]
     },
     "execution_count": 3,
     "metadata": {},
     "output_type": "execute_result"
    }
   ],
   "source": [
    "data = pd.read_csv('C:/PC/5th_semester/ML2/data.csv')\n",
    "\n",
    "data.sample(20)"
   ]
  },
  {
   "cell_type": "code",
   "execution_count": 4,
   "metadata": {
    "pycharm": {
     "name": "#%%\n"
    }
   },
   "outputs": [
    {
     "name": "stdout",
     "output_type": "stream",
     "text": [
      "<class 'pandas.core.frame.DataFrame'>\n",
      "RangeIndex: 2930 entries, 0 to 2929\n",
      "Data columns (total 81 columns):\n",
      " #   Column              Non-Null Count  Dtype  \n",
      "---  ------              --------------  -----  \n",
      " 0   MS_SubClass         2930 non-null   object \n",
      " 1   MS_Zoning           2930 non-null   object \n",
      " 2   Lot_Frontage        2930 non-null   int64  \n",
      " 3   Lot_Area            2930 non-null   int64  \n",
      " 4   Street              2930 non-null   object \n",
      " 5   Alley               2930 non-null   object \n",
      " 6   Lot_Shape           2930 non-null   object \n",
      " 7   Land_Contour        2930 non-null   object \n",
      " 8   Utilities           2930 non-null   object \n",
      " 9   Lot_Config          2930 non-null   object \n",
      " 10  Land_Slope          2930 non-null   object \n",
      " 11  Neighborhood        2930 non-null   object \n",
      " 12  Condition_1         2930 non-null   object \n",
      " 13  Condition_2         2930 non-null   object \n",
      " 14  Bldg_Type           2930 non-null   object \n",
      " 15  House_Style         2930 non-null   object \n",
      " 16  Overall_Qual        2930 non-null   object \n",
      " 17  Overall_Cond        2930 non-null   object \n",
      " 18  Year_Built          2930 non-null   int64  \n",
      " 19  Year_Remod_Add      2930 non-null   int64  \n",
      " 20  Roof_Style          2930 non-null   object \n",
      " 21  Roof_Matl           2930 non-null   object \n",
      " 22  Exterior_1st        2930 non-null   object \n",
      " 23  Exterior_2nd        2930 non-null   object \n",
      " 24  Mas_Vnr_Type        1155 non-null   object \n",
      " 25  Mas_Vnr_Area        2930 non-null   int64  \n",
      " 26  Exter_Qual          2930 non-null   object \n",
      " 27  Exter_Cond          2930 non-null   object \n",
      " 28  Foundation          2930 non-null   object \n",
      " 29  Bsmt_Qual           2930 non-null   object \n",
      " 30  Bsmt_Cond           2930 non-null   object \n",
      " 31  Bsmt_Exposure       2930 non-null   object \n",
      " 32  BsmtFin_Type_1      2930 non-null   object \n",
      " 33  BsmtFin_SF_1        2930 non-null   int64  \n",
      " 34  BsmtFin_Type_2      2930 non-null   object \n",
      " 35  BsmtFin_SF_2        2930 non-null   int64  \n",
      " 36  Bsmt_Unf_SF         2930 non-null   int64  \n",
      " 37  Total_Bsmt_SF       2930 non-null   int64  \n",
      " 38  Heating             2930 non-null   object \n",
      " 39  Heating_QC          2930 non-null   object \n",
      " 40  Central_Air         2930 non-null   object \n",
      " 41  Electrical          2930 non-null   object \n",
      " 42  First_Flr_SF        2930 non-null   int64  \n",
      " 43  Second_Flr_SF       2930 non-null   int64  \n",
      " 44  Low_Qual_Fin_SF     2930 non-null   int64  \n",
      " 45  Gr_Liv_Area         2930 non-null   int64  \n",
      " 46  Bsmt_Full_Bath      2930 non-null   int64  \n",
      " 47  Bsmt_Half_Bath      2930 non-null   int64  \n",
      " 48  Full_Bath           2930 non-null   int64  \n",
      " 49  Half_Bath           2930 non-null   int64  \n",
      " 50  Bedroom_AbvGr       2930 non-null   int64  \n",
      " 51  Kitchen_AbvGr       2930 non-null   int64  \n",
      " 52  Kitchen_Qual        2930 non-null   object \n",
      " 53  TotRms_AbvGrd       2930 non-null   int64  \n",
      " 54  Functional          2930 non-null   object \n",
      " 55  Fireplaces          2930 non-null   int64  \n",
      " 56  Fireplace_Qu        2930 non-null   object \n",
      " 57  Garage_Type         2930 non-null   object \n",
      " 58  Garage_Finish       2930 non-null   object \n",
      " 59  Garage_Cars         2930 non-null   int64  \n",
      " 60  Garage_Area         2930 non-null   int64  \n",
      " 61  Garage_Qual         2930 non-null   object \n",
      " 62  Garage_Cond         2930 non-null   object \n",
      " 63  Paved_Drive         2930 non-null   object \n",
      " 64  Wood_Deck_SF        2930 non-null   int64  \n",
      " 65  Open_Porch_SF       2930 non-null   int64  \n",
      " 66  Enclosed_Porch      2930 non-null   int64  \n",
      " 67  Three_season_porch  2930 non-null   int64  \n",
      " 68  Screen_Porch        2930 non-null   int64  \n",
      " 69  Pool_Area           2930 non-null   int64  \n",
      " 70  Pool_QC             2930 non-null   object \n",
      " 71  Fence               2930 non-null   object \n",
      " 72  Misc_Feature        106 non-null    object \n",
      " 73  Misc_Val            2930 non-null   int64  \n",
      " 74  Mo_Sold             2930 non-null   int64  \n",
      " 75  Year_Sold           2930 non-null   int64  \n",
      " 76  Sale_Type           2930 non-null   object \n",
      " 77  Sale_Condition      2930 non-null   object \n",
      " 78  Sale_Price          2930 non-null   int64  \n",
      " 79  Longitude           2930 non-null   float64\n",
      " 80  Latitude            2930 non-null   float64\n",
      "dtypes: float64(2), int64(33), object(46)\n",
      "memory usage: 1.8+ MB\n"
     ]
    }
   ],
   "source": [
    "data.info()"
   ]
  },
  {
   "cell_type": "markdown",
   "metadata": {},
   "source": [
    "Разобьём данные на обучающую и тестовую выборки."
   ]
  },
  {
   "cell_type": "code",
   "execution_count": 5,
   "metadata": {
    "pycharm": {
     "name": "#%%\n"
    }
   },
   "outputs": [
    {
     "name": "stdout",
     "output_type": "stream",
     "text": [
      "Train : (2344, 80) (2344,)\n",
      "Test : (586, 80) (586,)\n"
     ]
    }
   ],
   "source": [
    "target_column = \"Sale_Price\"\n",
    "np.random.seed(seed)\n",
    "\n",
    "test_size = 0.2\n",
    "data_train, data_test, Y_train, Y_test = train_test_split(\n",
    "    data[data.columns.drop(\"Sale_Price\")],\n",
    "    np.array(data[\"Sale_Price\"]),\n",
    "    test_size=test_size,\n",
    "    random_state=seed)\n",
    "\n",
    "print(f\"Train : {data_train.shape} {Y_train.shape}\")\n",
    "print(f\"Test : {data_test.shape} {Y_test.shape}\")"
   ]
  },
  {
   "cell_type": "markdown",
   "metadata": {},
   "source": [
    "Среди признаков нам встретятся как вещественные, так и категориальные. Пока что выделим в качестве категориальных те, значениями которых являются не числа, а какие-то другие сущности. Но имейте в виду, что численные с виду признаки тоже могут быть категориальными."
   ]
  },
  {
   "cell_type": "code",
   "execution_count": 6,
   "metadata": {
    "pycharm": {
     "name": "#%%\n"
    }
   },
   "outputs": [
    {
     "name": "stdout",
     "output_type": "stream",
     "text": [
      "Continuous : 34, Categorical : 46\n"
     ]
    }
   ],
   "source": [
    "continuous_columns = [key for key in data.keys() if data[key].dtype in (\"int64\", \"float64\")]\n",
    "categorical_columns = [key for key in data.keys() if data[key].dtype == \"object\"]\n",
    "\n",
    "continuous_columns.remove(target_column)\n",
    "\n",
    "print(f\"Continuous : {len(continuous_columns)}, Categorical : {len(categorical_columns)}\")"
   ]
  },
  {
   "cell_type": "markdown",
   "metadata": {},
   "source": [
    "Посмотрим на заголовки признаков. В целом, многие названия вполне говорящие, и можно догадаться, что стоит за этими признаками."
   ]
  },
  {
   "cell_type": "code",
   "execution_count": 7,
   "metadata": {
    "pycharm": {
     "name": "#%%\n"
    }
   },
   "outputs": [
    {
     "data": {
      "text/plain": [
       "['Lot_Frontage',\n",
       " 'Lot_Area',\n",
       " 'Year_Built',\n",
       " 'Year_Remod_Add',\n",
       " 'Mas_Vnr_Area',\n",
       " 'BsmtFin_SF_1',\n",
       " 'BsmtFin_SF_2',\n",
       " 'Bsmt_Unf_SF',\n",
       " 'Total_Bsmt_SF',\n",
       " 'First_Flr_SF',\n",
       " 'Second_Flr_SF',\n",
       " 'Low_Qual_Fin_SF',\n",
       " 'Gr_Liv_Area',\n",
       " 'Bsmt_Full_Bath',\n",
       " 'Bsmt_Half_Bath',\n",
       " 'Full_Bath',\n",
       " 'Half_Bath',\n",
       " 'Bedroom_AbvGr',\n",
       " 'Kitchen_AbvGr',\n",
       " 'TotRms_AbvGrd',\n",
       " 'Fireplaces',\n",
       " 'Garage_Cars',\n",
       " 'Garage_Area',\n",
       " 'Wood_Deck_SF',\n",
       " 'Open_Porch_SF',\n",
       " 'Enclosed_Porch',\n",
       " 'Three_season_porch',\n",
       " 'Screen_Porch',\n",
       " 'Pool_Area',\n",
       " 'Misc_Val',\n",
       " 'Mo_Sold',\n",
       " 'Year_Sold',\n",
       " 'Longitude',\n",
       " 'Latitude']"
      ]
     },
     "execution_count": 7,
     "metadata": {},
     "output_type": "execute_result"
    }
   ],
   "source": [
    "continuous_columns"
   ]
  },
  {
   "cell_type": "markdown",
   "metadata": {},
   "source": [
    "Одна из целей этого ноутбука — познакомить вас с fit-predict (fit-transform) интерфейсом, типичным для многих реализаций моделей машинного обучения и для различных инструментов работы с данными.\n",
    "\n",
    "Множество фреймворков машинного обучения (например, scikit-learn, CatBoost) содержат в себе модели, которые описаны в виде классов, у которых есть два ключевых метода: `fit` и `predict` (`transform`). Давайте разберёмся, что делают эти методы.\n",
    "\n",
    "* **`fit`** — метод для обучения модели. Он получает на входе данные и таргеты для обучения, после чего обновляет состояние класса. После использования метода fit считается, что объект класса готов к использованию. Внутри этого метода может быть что угодно: обучение модели, подбор гиперпараметров, подсчет статистик и т. д.\n",
    "\n",
    "* **`predict`** — метод для предсказания , обученного с помощью `fit`. В задаче регрессии это оценка параметра, в задаче классификации предсказанный класс.\n",
    "\n",
    "* **`transform`** — стилистический синоним `predict`, но используется в классах, которые реализуют преобразования данных, например, масштабирование признаков или кодирование категориальных фичей.\n",
    "\n",
    "* **`fit_transform`** — метод который учится на данных, а потом их же преобразовывает."
   ]
  },
  {
   "cell_type": "markdown",
   "metadata": {},
   "source": [
    "### 1. Базовая предобработка данных"
   ]
  },
  {
   "cell_type": "markdown",
   "metadata": {},
   "source": [
    "Отметим два важных свойства линейной регрессии:\n",
    "\n",
    "- строго говоря, она умеет работать только с вещественными признаками\n",
    "- если признаки имеют разный масштаб, то регуляризация может штрафовать коэффициенты за несоответствие.\n",
    "\n",
    "Первое соображение заставляет придумывать способы борьбы с категориальными признаками, и мы начнём с самого простого: проигнорируем их.\n",
    "Второе соображение приводит к необходимости приводить признаки к одному масштабу (\"нормализовать фичи\"). В `sklearn` для этого есть два основных класса:\n",
    "\n",
    "- [sklearn.preprocessing.StandardScaler](https://scikit-learn.org/stable/modules/generated/sklearn.preprocessing.StandardScaler.html) &mdash; в каждой колонке вычитает среднее и делит на стандартное отклонение.\n",
    "- [sklearn.preprocessing.MinMaxScaler](https://scikit-learn.org/stable/modules/generated/sklearn.preprocessing.MinMaxScaler.html) &mdash; в каждой колонке вычитает минимальное значение и делит на разницу между минимальным и максимальным.\n",
    "\n",
    "Применяются они в соответствии с описанной выше философией. Например:\n",
    "\n",
    "```\n",
    "scaler = StandardScaler()\n",
    "X_train = scaler.fit_transform(X_train)\n",
    "X_test = scaler.transform(X_test)\n",
    "```\n",
    "\n",
    "Обратите внимание, что scaler настраивается на обучающей выборке (именно по ней вычисляются среднее и стандартное отклонение), а к тестовой он применяется с уже подсчитанными статистиками.\n",
    "\n",
    "**Вопрос**. А зачем? Почему бы не нормировать отдельно обучающую и тестовую выборку? Почему бы не настроить наш scaler на объединении двух выборок? Ведь благодаря большему количеству данных мы бы настроили его точнее!\n",
    "<p>\n",
    "<details>\n",
    "  <summary>Кликните, чтобы узнать ответ</summary>\n",
    "\n",
    "Если мы по-разному отнормируем обучающую и тестовую выборки, то нам будет весьма сложно применять модель, обученную на одной из них, к другой. Это просто не будет иметь физического смысла.\n",
    "\n",
    "Настраивать что-либо на тестовой выборке — это очень плохая идея. Тестовая выборка должна быть неким независимым мерилом качества наших усилий по предсказанию, а если мы разрешим информации о распределении признаков в тестовой выборке \"протечь\" в процесс обучения, то мы эту независимость испортим.\n",
    "\n",
    "</details>"
   ]
  },
  {
   "cell_type": "markdown",
   "metadata": {},
   "source": [
    "Итак, мы решили делать преобразование данных, которое состоит в:\n",
    "\n",
    "- сохранении лишь непрерывных фичей;\n",
    "- нормализации этих фичей (давайте остановимся на [sklearn.preprocessing.StandardScaler](https://scikit-learn.org/stable/modules/generated/sklearn.preprocessing.StandardScaler.html))\n",
    "\n",
    "В этом пункте вам нужно будет сделать класс такой предобработки данных, причём оформим мы его в виде класса с интерфейсом fit-transform.\n",
    "\n",
    "Несколько важных соображений:\n",
    "\n",
    "1. В прошлой лабораторной метод fit у нас ничего не возвращал, но правильнее сделать так, чтобы метод fit возвращал сам класс. В частности, это позволит нам писать model = model.fit().\n",
    "\n",
    "2. Первоначальный анализ данных удобно делать, когда они лежат в pd.DataFrame, т к у этого класса много методов, которые малым количеством телодвижений позволяют считать статистики и строить графики. Модели же проще учить, когда данные лежат в np.array, потому большое количество библиотек, где реализованы методы машинного обучения совместимы именно с numpy. Поэтому сделайте так, чтобы метод transform получал на вход pd.Dataframe, а возвращал np.array.\n",
    "\n",
    "3. В sklearn есть классы, от которых можно отнаследоваться, чтобы сделать класс с [fit-predict](https://scikit-learn.org/stable/modules/generated/sklearn.base.RegressorMixin.html#sklearn.base.RegressorMixin) или [fit-transform](https://scikit-learn.org/stable/modules/generated/sklearn.base.TransformerMixin.html) интерфейсом. Это очень полезно, т к позволит вам в дальнейшем пользоваться методами [GridSearchCV](https://scikit-learn.org/stable/modules/generated/sklearn.model_selection.GridSearchCV.html) и подобными. В этом пункте отнаследуйтесь от второго.\n",
    "\n",
    "4. У метода __init__ должен быть параметр ```needed_columns=None```. Туда передается список колонок, которые нужно взять из датафрейме. Делать это надо в ```fit``` и ```transform```. В случае если если он равен None, то класс оставляет все колонки из исходного набора данных.\n",
    "\n",
    "5. Обратите внимание, что достаточно реализовать `fit` и `transform`, а метод `fit_transform` из них слепит родительский класс.\n",
    "\n",
    "**Готовый препроцессор вам нужно будет сдать в Контест**"
   ]
  },
  {
   "cell_type": "code",
   "execution_count": 8,
   "metadata": {
    "pycharm": {
     "name": "#%%\n"
    }
   },
   "outputs": [],
   "source": [
    "class BaseDataPreprocessor(TransformerMixin):\n",
    "    def __init__(self, needed_columns: Optional[List[str]]=None):\n",
    "        \"\"\"\n",
    "        :param needed_columns: if not None select these columns from the dataframe\n",
    "        \"\"\"\n",
    "        # self.scaler = ...\n",
    "        self.needed_columns = needed_columns\n",
    "        self.scaler = StandardScaler()\n",
    "\n",
    "    def fit(self, data, *args):\n",
    "        \"\"\"\n",
    "        Prepares the class for future transformations\n",
    "        :param data: pd.DataFrame with all available columns\n",
    "        :return: self\n",
    "        \"\"\"\n",
    "        if self.needed_columns is not None:\n",
    "            data = data[self.needed_columns]\n",
    "\n",
    "        self.scaler.fit(data.select_dtypes(include=[np.number]))\n",
    "        return self\n",
    "\n",
    "    def transform(self, data: pd.DataFrame) -> np.array:\n",
    "        \"\"\"\n",
    "        Transforms features so that they can be fed into the regressors\n",
    "        :param data: pd.DataFrame with all available columns\n",
    "        :return: np.array with preprocessed features\n",
    "        \"\"\"\n",
    "        if self.needed_columns is not None:\n",
    "            data = data[self.needed_columns]\n",
    "\n",
    "        numerical_data = data.select_dtypes(include=[np.number])\n",
    "        transformed_data = self.scaler.transform(numerical_data)\n",
    "\n",
    "        return transformed_data"
   ]
  },
  {
   "cell_type": "markdown",
   "metadata": {},
   "source": [
    "**1. (1 балл)** Сдайте вашу реализацию в Контест, задача «Простая предобработка»."
   ]
  },
  {
   "cell_type": "code",
   "execution_count": 9,
   "metadata": {
    "pycharm": {
     "name": "#%%\n"
    }
   },
   "outputs": [],
   "source": [
    "preprocessor = BaseDataPreprocessor(needed_columns=continuous_columns)\n",
    "\n",
    "X_train = preprocessor.fit_transform(data_train)\n",
    "X_test = preprocessor.transform(data_test)"
   ]
  },
  {
   "cell_type": "markdown",
   "metadata": {},
   "source": [
    "### 1.2 Умная предобработка данных"
   ]
  },
  {
   "cell_type": "markdown",
   "metadata": {},
   "source": [
    "Теперь давайте попробуем сделать что-нибудь поинтереснее. Для того, чтобы будущие модели регрессии работали хорошо, они должны обучаться и предсказывать на информативных фичах. Зачастую оказывается гораздо продуктивнее потратить какое-то время на изучение предметной области и придумывание хороших фичей (feature engineering), нежели жадно перебирать все известные методы машинного обучения.\n",
    "В этом пункте попробуйте придумать новых фичей и написать новый класс предобработки данных, который их добавляет (а, возможно, и убирает ещё какие-то старые).\n",
    "\n",
    "В конце этого пункта в раскрывашке перечислены наши идеи относительно того, что можно было добавить."
   ]
  },
  {
   "cell_type": "code",
   "execution_count": 10,
   "metadata": {
    "pycharm": {
     "name": "#%%\n"
    }
   },
   "outputs": [],
   "source": [
    "class SmartDataPreprocessor(TransformerMixin):\n",
    "    def __init__(self, needed_columns: Optional[List[str]] = None, center_coords: tuple = None):\n",
    "        self.needed_columns = needed_columns\n",
    "        self.center_coords = center_coords\n",
    "        self.scaler = StandardScaler()\n",
    "\n",
    "    def _add_distance_to_center(self, data: pd.DataFrame) -> pd.DataFrame:\n",
    "        if 'Latitude' in data.columns and 'Longtitude' in data.columns and self.center_coords:\n",
    "            data['distance_to_center'] = data.apply(\n",
    "                lambda row: geodesic((row['Latitude'], row['Longtitude']), self.center_coords).kilometers, axis = 1\n",
    "            )\n",
    "        return data\n",
    "\n",
    "    def _fill_missing_values(self, data: pd.DataFrame) -> pd.DataFrame:\n",
    "        if 'Lot_Frontage' in data.columns:\n",
    "            median_value = data['Lot_Frontage'].median()\n",
    "            data['Lot_Frontage'] = data['Lot_Frontage'].replace(0, median_value)\n",
    "        return data\n",
    "    \n",
    "    def fit(self, data: pd.DataFrame, *args):\n",
    "        data = self._fill_missing_values(data)\n",
    "        data = self._add_distance_to_center(data)\n",
    "\n",
    "        if self.needed_columns is not None:\n",
    "            data = data[self.needed_columns]\n",
    "\n",
    "        self.scaler.fit(data.select_dtypes(include=[np.number]))\n",
    "        return self\n",
    "\n",
    "    def transform(self, data: pd.DataFrame) -> np.array:\n",
    "        data = self._fill_missing_values(data)\n",
    "        data = self._add_distance_to_center(data)\n",
    "\n",
    "        if self.needed_columns is not None:\n",
    "            data = data[self.needed_columns]\n",
    "\n",
    "        numerical_data = data.select_dtypes(include=[np.number])\n",
    "        transformed_data = self.scaler.transform(numerical_data)\n",
    "\n",
    "        return transformed_data"
   ]
  },
  {
   "cell_type": "code",
   "execution_count": 11,
   "metadata": {
    "pycharm": {
     "name": "#%%\n"
    }
   },
   "outputs": [],
   "source": [
    "center_coords = (42.0308, 93.6319)\n",
    "\n",
    "preprocessor = SmartDataPreprocessor(needed_columns=continuous_columns, center_coords=center_coords)\n",
    "\n",
    "X_train = preprocessor.fit_transform(data_train)\n",
    "X_test = preprocessor.transform(data_test)"
   ]
  },
  {
   "cell_type": "markdown",
   "metadata": {},
   "source": [
    "<details>\n",
    "  <summary>Пара простых идей. Кликните, когда будете готовы</summary>\n",
    "\n",
    "Например в датасете есть координаты квартиры, которые по идее сами по себе мало чего дают нашему регрессору. С другой стороны, по ним можно оценить центр города (или просто найти его на карте) и использовать в качестве фичи расстояние до центра города, которое может естественным образом влиять на цену жилья.\n",
    "\n",
    "Ещё может быть полезным почистить пропуски. И тут есть хитрость. Если вы просто вызовете data.info(), то вам покажется, что пропусков нет, но они могут приходить под разными обличьями. Например, у 490 объектов параметр Lot_Frontage (площадь фасада) равен нулю. Неожиданно, правда? Возможно, мы хотим эти нулевые значения заменить чем-нибудь, скажем, медианой.\n",
    "\n",
    "</details>\n"
   ]
  },
  {
   "cell_type": "markdown",
   "metadata": {},
   "source": [
    "### 2. Линейная регрессия"
   ]
  },
  {
   "cell_type": "markdown",
   "metadata": {},
   "source": [
    "Давайте получим базовое решение (бейзлайн), чтобы потом с ним можно было сравниваться.\n",
    "\n",
    "Обучите линейную регрессию на обучающей выборке (которую мы подвергли преобразованию BaseDataPreprocessor). В библиотеке Sklearn есть релизация [без регуляризации](https://scikit-learn.org/stable/modules/generated/sklearn.linear_model.LinearRegression.html?highlight=linear%20regression), [с L2-регуляризацией](https://scikit-learn.org/stable/modules/generated/sklearn.linear_model.Ridge.html#sklearn.linear_model.Ridge) и [с L1-регуляризацией](https://scikit-learn.org/stable/modules/generated/sklearn.linear_model.Lasso).\n",
    "\n",
    "Начнём с обычной регрессии. Получите предсказания на тестовых данных и оцените на них качество модели. В качестве метрики оценки качества возьмите [средний модуль отклонения](https://scikit-learn.org/stable/modules/generated/sklearn.metrics.mean_absolute_error.html) (mean absolute error, MAE). Как вам кажется, насколько хорошей вышла модель?\n"
   ]
  },
  {
   "cell_type": "code",
   "execution_count": 12,
   "metadata": {
    "pycharm": {
     "name": "#%%\n"
    }
   },
   "outputs": [
    {
     "name": "stdout",
     "output_type": "stream",
     "text": [
      "Mean Absolute Error (MAE) on test data: 23737.75\n"
     ]
    }
   ],
   "source": [
    "model = LinearRegression()\n",
    "\n",
    "model.fit(X_train, Y_train)\n",
    "\n",
    "y_pred = model.predict(X_test)\n",
    "\n",
    "mae = mean_absolute_error(Y_test, y_pred)\n",
    "\n",
    "print(f\"Mean Absolute Error (MAE) on test data: {mae:.2f}\")"
   ]
  },
  {
   "cell_type": "markdown",
   "metadata": {},
   "source": [
    "Теперь попробуйте L2-регуляризованную модель Ridge. Какие значения метрик она даёт?"
   ]
  },
  {
   "cell_type": "code",
   "execution_count": 13,
   "metadata": {
    "pycharm": {
     "name": "#%%\n"
    }
   },
   "outputs": [
    {
     "name": "stdout",
     "output_type": "stream",
     "text": [
      "Mean Absolute Error (MAE) with Ridge regularization: 23742.80\n"
     ]
    }
   ],
   "source": [
    "ridge_model = Ridge(alpha=1.0)\n",
    "\n",
    "ridge_model.fit(X_train, Y_train)\n",
    "\n",
    "y_pred_ridge = ridge_model.predict(X_test)\n",
    "\n",
    "mae_ridge = mean_absolute_error(Y_test, y_pred_ridge)\n",
    "\n",
    "print(f\"Mean Absolute Error (MAE) with Ridge regularization: {mae_ridge:.2f}\")"
   ]
  },
  {
   "cell_type": "markdown",
   "metadata": {},
   "source": [
    "В целом, регуляризация редко портит модель, но важно правильно подобрать коэффициент регуляризации. Как именно — поговорим позже."
   ]
  },
  {
   "cell_type": "markdown",
   "metadata": {},
   "source": [
    "### 3. Выбор метрики"
   ]
  },
  {
   "cell_type": "markdown",
   "metadata": {},
   "source": [
    "Средний модуль ошибки (MAE) — в целом довольно хорошая метрика для задачи регрессии, потому что ее довольно легко проинтерпретировать. Но с ней есть одна проблема: ошибиться на $ 10\\:000 $ USD в предсказании цены квартиры стоимостью $ 100\\:000 $ USD страшнее чем допустить такую ошибку в предсказании цены жилья за $ 700\\:000 $ USD. Иными словами более показательной метрикой будет не абсолютная  ошибка $ e_i = |y_i - \\widehat{y_i}|$, а логарифм относительной ошибки $e_i = \\log \\frac{y_i}{\\widehat{y_i}} $. Также давайте обычное усреднение по всем примерам в тестовой выборке заменим на среднеквадратичное $ \\frac{1}{n} \\sum_{i=1}^{n} {e_i} \\longrightarrow \\sqrt{\\frac{1}{n} \\sum_{i=1}^{n}{e_i^2}}$. Итоговая метрика получается равной:\n",
    "\n",
    "$$\n",
    "Metric = \\sqrt{\\frac{1}{N} \\sum_{i=1}^{n} \\left[\\log y_i - \\log \\widehat{y_i}\\right]^2}\n",
    "$$\n",
    "\n",
    "Логично? Да. Но возникает еще одна проблема. Логарифм нельзя брать от отрицательного числа. Бороться с этим можно двумя способами.\n",
    "- Случай когда отрицательное число затисалось в target-ax не очень разумен, т. к. цена на дом не может быть отрицательной. В этом случае стоит кинуть ошибку, чтобы пользователь этой функции еще раз перепроверил правильные ли таргеты он подает.\n",
    "- В целом, у нас нет гарантий того, что наша модель (например линейная) предсказывает только положительные числа. Брать логарифм от отрицательного числа не получится, но качество такой модели все еще надо оценить. Давайте все предсказания, которые меньше некоторого порога $ a_{min} $, заменять этим порогом (то есть $ \\widehat{y_i} := \\max(\\widehat{y_i}, a_{min}) $), после чего подавать их в метрику. Для прохождения тестов возьмите $ a_{min} = 1 $.\n",
    "\n",
    "**2. (1 балл) Реализуйте эту метрику и сдайте в контест**."
   ]
  },
  {
   "cell_type": "code",
   "execution_count": 14,
   "metadata": {
    "pycharm": {
     "name": "#%%\n"
    }
   },
   "outputs": [],
   "source": [
    "def root_mean_squared_logarithmic_error(y_true, y_pred, a_min=1.):\n",
    "    if np.any(y_true < 0):\n",
    "        raise ValueError(\"Targets (y_true) contain negative values, which is not allowed\")\n",
    "\n",
    "    y_perd = np.maximum(y_pred, a_min)\n",
    "\n",
    "    log_diff = np.log(y_true) - np.log(y_pred)\n",
    "\n",
    "    metric = np.sqrt(np.mean(np.square(log_diff)))\n",
    "\n",
    "    return metric"
   ]
  },
  {
   "cell_type": "markdown",
   "metadata": {},
   "source": [
    "### 4. Логарифмирование таргета."
   ]
  },
  {
   "cell_type": "markdown",
   "metadata": {},
   "source": [
    "Вообще идея с логарифмированием таргета довольно хороша для этой задачи. Давайте посмотрим на распределение обычных и логарифмированных таргетов."
   ]
  },
  {
   "cell_type": "code",
   "execution_count": 15,
   "metadata": {
    "pycharm": {
     "name": "#%%\n"
    }
   },
   "outputs": [],
   "source": [
    "def plot_target_distribution(Y_train, Y_test, ax, n_bins=20):\n",
    "    ax.hist(Y_train, bins=n_bins, label=\"train\", color=\"red\", alpha=0.3, density=True)\n",
    "    ax.hist(Y_test, bins=n_bins, label=\"test\", color=\"blue\", alpha=0.3, density=True)\n",
    "\n",
    "    ax.legend()\n",
    "    ax.set_xlabel(\"Value\")\n",
    "    ax.set_ylabel(\"Probability\")\n",
    "\n",
    "\n",
    "def plot_both_distributions(Y_train, Y_test):\n",
    "    fig, (ax0, ax1) = plt.subplots(ncols=2, nrows=1, figsize=(15, 6))\n",
    "\n",
    "    plot_target_distribution(Y_train, Y_test, ax=ax0)\n",
    "    ax0.set_title(\"Standard\")\n",
    "\n",
    "    plot_target_distribution(np.log(Y_train), np.log(Y_test), ax=ax1)\n",
    "    ax1.set_title(\"Logarithmic\")"
   ]
  },
  {
   "cell_type": "code",
   "execution_count": 16,
   "metadata": {
    "pycharm": {
     "name": "#%%\n"
    }
   },
   "outputs": [
    {
     "data": {
      "image/png": "[encoded data removed]",
      "text/plain": [
       "<Figure size 1500x600 with 2 Axes>"
      ]
     },
     "metadata": {},
     "output_type": "display_data"
    }
   ],
   "source": [
    "plot_both_distributions(Y_train, Y_test)"
   ]
  },
  {
   "cell_type": "markdown",
   "metadata": {},
   "source": [
    "Как видите, если прологарифмировать таргеты, то их распределение станет более похоже на гауссовское. Интуиция подсказывает, что линейная регрессия с функцией потерь MSE должна лучше учиться на таких таргетах.\n",
    "\n",
    "Попробуйте написать класс, который во время обучения логарифмирует таргет, а во время предсказания — наоборот, экспоненциирует. После чего обучите оба метода на обучающих данных и сравните значения метрик MAE и MSLE на тесте."
   ]
  },
  {
   "cell_type": "markdown",
   "metadata": {},
   "source": [
    "Что должно быть в этом классе:\n",
    "- Класс должен называться ```ExponentialLinearRegression```\n",
    "- Класс должен иметь такой же fit-predict интерфейс, как и было до этого. На вход он получает оригинальные X и Y, а уже внутри происходит логарифмирование или экспоненциирование.\n",
    "- Внутри этой модели будет работать [Ridge](https://scikit-learn.org/stable/modules/generated/sklearn.linear_model.Ridge.html). Хочется, чтобы этому классу можно было передавать аргументы инициализации с помощью *args и **kwargs\n",
    "- Чтобы потом этот класс можно было использовать в [GridSearchCV](https://scikit-learn.org/stable/modules/generated/sklearn.model_selection.GridSearchCV.html) в следующих пунктах, у него должны быть реализованы 5 методов\n",
    "    1. ```__init__(self, *args, **kwargs)``` &mdash; все полученные аргументы передаются дальше в Ridge.\n",
    "    2. ```fit(self, X, Y)``` &mdash; обучает класс, возвращает self.\n",
    "    3. ```predict(self, X)``` &mdash; делает предсказание.\n",
    "    4. ```get_params(deep=True)``` &mdash; возвращает dict с параметрами модели. Больше подробностей [здесь](https://scikit-learn.org/stable/modules/generated/sklearn.base.BaseEstimator.html)\n",
    "    5. ```set_params(**params)``` &mdash; передает нужные параметры в модель. Больше подробносте [здесь](https://scikit-learn.org/stable/modules/generated/sklearn.base.BaseEstimator.html)\n",
    "- Есть два подхода к тому как сделать все нужные методы:\n",
    "    - Отнаследоваться от класса Ridge и переопределить методы fit и predict, внутри вызывая super() от отцовского класса.\n",
    "    - Отнаследоваться от класса RegressorMixin и внутренним атрибутом класса сделать Ridge. Тогда все методы нужно будет писать руками."
   ]
  },
  {
   "cell_type": "code",
   "execution_count": 17,
   "metadata": {
    "pycharm": {
     "name": "#%%\n"
    }
   },
   "outputs": [],
   "source": [
    "class ExponentialLinearRegression(BaseEstimator, RegressorMixin):\n",
    "    def __init__(self, *args, **kwargs):\n",
    "        self.model = Ridge(*args, **kwargs)\n",
    "\n",
    "    def fit(self, X, Y):\n",
    "        Y_log = np.log(Y)\n",
    "        self.model.fit(X, Y_log)\n",
    "        return self\n",
    "\n",
    "    def predict(self, X):\n",
    "        Y_log_pred = self.model.predict(X)\n",
    "        return np.exp(Y_log_pred)\n",
    "\n",
    "    def get_params(self, deep=True):\n",
    "        return self.model.get_params(deep=deep)\n",
    "\n",
    "    def set_params(self, **params):\n",
    "        self.model.set_params(**params)\n",
    "        return self"
   ]
  },
  {
   "cell_type": "markdown",
   "metadata": {},
   "source": [
    "**3. (1 балл) Реализуйте этот класс и сдайте в контест**."
   ]
  },
  {
   "cell_type": "code",
   "execution_count": 18,
   "metadata": {},
   "outputs": [
    {
     "name": "stdout",
     "output_type": "stream",
     "text": [
      "MAE  : Classic : 23742.798827360628  Exponential : 27139.895356135043\n",
      "MSLE : Classic : 0.195025873719685 Exponential : 0.21722807892852405\n"
     ]
    }
   ],
   "source": [
    "classic_regressor = Ridge()\n",
    "exponential_regressor = ExponentialLinearRegression()\n",
    "\n",
    "classic_regressor.fit(X_train, Y_train)\n",
    "exponential_regressor.fit(X_train, Y_train)\n",
    "\n",
    "classic_prediction = classic_regressor.predict(X_test)\n",
    "exponential_prediction = exponential_regressor.predict(X_test)\n",
    "\n",
    "print(f\"MAE  : Classic : {mean_absolute_error(Y_test, classic_prediction)}  Exponential : {mean_absolute_error(Y_test, exponential_prediction)}\")\n",
    "print(f\"MSLE : Classic : {root_mean_squared_logarithmic_error(Y_test, classic_prediction)} Exponential : {root_mean_squared_logarithmic_error(Y_test, exponential_prediction)}\")"
   ]
  },
  {
   "cell_type": "markdown",
   "metadata": {},
   "source": [
    "Иногда получается так, что разные обученные вами модели приводят к улучшению одних метрик и ухудшению других. Это абсолютно нормально и этому не надо удивляться.\n",
    "\n",
    "Также зачастую случается так, что прирост по метрике не очень большой. И вы можете захотеть убедиться, что это реальное улучшение, а не просто случайная флуктуация. Для этого можно использовать подсчёт метрики про кросс-валидации, о которой мы поговорим позже в нашем курсе."
   ]
  },
  {
   "cell_type": "code",
   "execution_count": 19,
   "metadata": {},
   "outputs": [
    {
     "name": "stdout",
     "output_type": "stream",
     "text": [
      "23293\n"
     ]
    }
   ],
   "source": [
    "linear_regressor = LinearRegression()\n",
    "\n",
    "X_combined = np.vstack((X_train, X_test))\n",
    "Y_combined = np.concatenate((Y_train, Y_test))\n",
    "\n",
    "kf = KFold(n_splits=5, shuffle=True, random_state=42)\n",
    "\n",
    "mae_scorer = make_scorer(mean_absolute_error)\n",
    "cv_scores = cross_val_score(linear_regressor, X_combined, Y_combined, cv=kf, scoring=mae_scorer)\n",
    "\n",
    "mean_mae = np.mean(cv_scores)\n",
    "rounded_mae = round(mean_mae)\n",
    "\n",
    "print(rounded_mae)"
   ]
  },
  {
   "cell_type": "markdown",
   "metadata": {},
   "source": [
    "### 5. Линейная модель своими руками\n",
    "\n",
    "В этом разделе вы напишете собственный класс линейной модели, чтобы лучше разобраться, как работает обучение с помощью SGD."
   ]
  },
  {
   "cell_type": "markdown",
   "metadata": {},
   "source": [
    "Линейная модель делает предсказание по такой формуле:\n",
    "$$\n",
    "\\widehat{y}(x) = x^T \\widehat{\\theta}\n",
    "$$\n",
    "Здесь $\\widehat{\\theta}$ &mdash; обучаемые параметры, $x$ &mdash; вектор фичей данного примера.\n",
    "Оценка $\\widehat{\\theta}$ находятся из задачи минимизации лосс функции:\n",
    "\n",
    "$$\n",
    "F(\\theta) = \\frac{1}{n} \\sum_{i=1}^{n} \\left(Y_i - x_i^T \\theta\\right)^2 + \\lambda \\theta^T\\theta \\longrightarrow \\min_{\\theta \\in \\mathbb{R}^d}\n",
    "$$"
   ]
  },
  {
   "cell_type": "markdown",
   "metadata": {},
   "source": [
    "Эту задачу минимизации будем решать градиентным спуском. Для этого реализуем этот метод ввиде класса с методами fit-predict.\n",
    "Что в нем должно быть:\n",
    "1. Класс должен называться ```SGDLinearRegressor```\n",
    "2. Класс должен быть отнаследован от sklearn-овского класса [RegressorMixin](https://scikit-learn.org/stable/modules/generated/sklearn.base.RegressorMixin.html)\n",
    "3. Класс должен инициализироваться со следующими гиперпараметрами:\n",
    "\n",
    "    * ```lr``` — learning rate. Длина шага градиентного спуска\n",
    "\n",
    "    * ```regularization``` — коэффициент $\\lambda$ из формулы выше\n",
    "    \n",
    "    * ```delta_converged``` — устанавливает условие окончание обучение. В тот момент когда норма разности весов на соседних шагах градиентного спуска меньше чем ```delta_converged``` метод прекращает обновлять веса\n",
    "    \n",
    "    * ```max_steps``` — максимальное число шагов градиентного спуска\n",
    "    \n",
    "    * ```batch_size``` — размер батча\n",
    "\n",
    "4. Реализуйте **стохастический** градиентный спуск. На каждом шагу градиентного спуска должен формироваться батч размера ```batch_size``` из матрицы признаков. Это нужно для того чтобы метод быстрее сходился. Батч может выбираться случайно на каждом шаге градиентного спуска, либо каждую эпоху можно перемешивать трейн выборку и итерироваться батчами по ней."
   ]
  },
  {
   "cell_type": "markdown",
   "metadata": {
    "pycharm": {
     "name": "#%% md\n"
    }
   },
   "source": [
    "Обратите внимание при реализации SGD на следующие моменты (частые ошибки):\n",
    "* не перепутайте, какие коэффициенты в SGD стоят при самой функции потерь, а какие — при регуляризационном члене\n",
    "* для остановки нужно сравнивать норму, а не ее квадрат\n",
    "* для правильного решения нужно не итерироваться по батчу,  а перемножать матрицы (иначе не зайдет по TL)"
   ]
  },
  {
   "cell_type": "code",
   "execution_count": 20,
   "metadata": {
    "pycharm": {
     "name": "#%%\n"
    }
   },
   "outputs": [],
   "source": [
    "import numpy as np\n",
    "from sklearn.base import RegressorMixin\n",
    "\n",
    "class SGDLinearRegressor(RegressorMixin):\n",
    "    def __init__(\n",
    "        self,\n",
    "        lr=0.01,\n",
    "        regularization=1.,\n",
    "        delta_converged=1e-2,\n",
    "        max_steps=1000,\n",
    "        batch_size=64,\n",
    "    ):\n",
    "        self.lr = lr\n",
    "        self.regularization = regularization\n",
    "        self.max_steps = max_steps\n",
    "        self.delta_converged = delta_converged\n",
    "        self.batch_size = batch_size\n",
    "\n",
    "        self.W = None\n",
    "        self.b = None\n",
    "\n",
    "    def fit(self, X, Y):\n",
    "        n_samples, n_features = X.shape\n",
    "        self.W = np.zeros(n_features)\n",
    "        self.b = 0\n",
    "\n",
    "        for step in range(self.max_steps):\n",
    "            indices = np.random.choice(n_samples, self.batch_size, replace=False)\n",
    "            X_batch = X[indices]\n",
    "            Y_batch = Y[indices]\n",
    "\n",
    "            y_pred = X_batch.dot(self.W) + self.b\n",
    "\n",
    "            error = y_pred - Y_batch\n",
    "\n",
    "            W_gradient = 2* (X_batch.T.dot(error) / self.batch_size) + 2* (self.regularization * self.W)\n",
    "            b_gradient = 2 * np.mean(error)\n",
    "\n",
    "            self.W -= self.lr * W_gradient\n",
    "            self.b -= self.lr * b_gradient\n",
    "\n",
    "    def predict(self, X):\n",
    "        return X.dot(self.W) + self.b\n"
   ]
  },
  {
   "cell_type": "code",
   "execution_count": 21,
   "metadata": {
    "pycharm": {
     "name": "#%%\n"
    }
   },
   "outputs": [
    {
     "name": "stdout",
     "output_type": "stream",
     "text": [
      "(586,) (586,)\n",
      "MAE :  25966.28571833601\n",
      "Mean log :  0.19003514139987202\n"
     ]
    }
   ],
   "source": [
    "# Check yourself\n",
    "\n",
    "model = SGDLinearRegressor()\n",
    "model.fit(X_train, Y_train)\n",
    "\n",
    "prediction = model.predict(X_test)\n",
    "print(Y_test.shape, prediction.shape)\n",
    "print(\"MAE : \", mean_absolute_error(Y_test, prediction))\n",
    "print(\"Mean log : \", root_mean_squared_logarithmic_error(Y_test, prediction))"
   ]
  },
  {
   "cell_type": "markdown",
   "metadata": {},
   "source": [
    "### 6. Категориальные признаки"
   ]
  },
  {
   "cell_type": "markdown",
   "metadata": {},
   "source": [
    "В самом начале ноутбука мы отбросили категориальные фичи, хотя они могут помочь нам сделать модель лучше. Давайте же научимся ими пользоваться.\n",
    "\n",
    "Самый простой подход — это закодировать значения категориального признака числами, скажем, от $0$ до $C-1$, где $C$ — количество значений категориального признака. Иногда это может сработать, но для этого нужно, чтобы между значениями признака были определены отношения больше/меньше (такие признаки называются _ординальными_), причём соотношения между значениями должны быть более-менее линейными. В целом, не очень частая ситуация, поэтому так мы делать не будем.\n",
    "\n",
    "Вместо этого мы будем использовать OneHotEncoding. Пусть некоторая категориальная фича имеет $C$ уникальных значений. Давайте эту фичу закодируем в виде $C$ столбцов, каждый из которых соответствует некоторому уникальному значению категориальной фичи. Для каждого элемента выборки будем класть единичку в столбец, соответствующий этой фиче, и нолики в остальные.\n",
    "\n",
    "У этого метода есть недостаток. Если категориальная фича принимает слишком много значений, то вы нагенерируете много новых столбцов, каждый из которых будет содержать мало информации. Из-за них моделька может переобучиться.\n",
    "\n",
    "Этот метод имплементирован [здесь](https://scikit-learn.org/stable/modules/generated/sklearn.preprocessing.OneHotEncoder.html). У него есть пара важных гиперпараметров, которые стоит упомянуть:\n",
    "- ```handle_unknown``` &mdash; управляет обработкой незнакомых категорий на этапе `transform`. Число уникальных значений (и число столбцов) настраивается на обучающей выборке, и при дальнейшем применении может появиться значение, которого ещё не было. Если указать ```handle_unknown=\"ignore\"```, все поля для такого объекта будут заполнены нулями.\n",
    "- ```drop``` &mdash; если делать one-hot-encoding так как это описано выше, то сумма всех столбцов, соответствующих значениям категориальной фичи, будет равна единичному вектору. А такой вектор уже есть (он соответствует свободному члену). То есть признаки становятся линейно зависимыми, и это сломает процесс обучения линейной модели. Поэтому есть смысл для каждой фичи отбрасывать одну из получившихся колонок (```drop=\"first\"```) или хотя бы делать это только для бинарных фичей (```drop=\"if_binary\"```)"
   ]
  },
  {
   "cell_type": "markdown",
   "metadata": {},
   "source": [
    "В этом пункте вам надо еще раз предобработать данные, добавив в них часть категориальных фичей, закодированных OneHotEncoding-ом. После этого обучите классификатор заново и выбейте лучшую метрику на тестовой выборке. А именно, мы добавим фичи \"Overall_Qual\", \"Garage_Qual\", \"Sale_Condition\", \"MS_Zoning\". Используйте значение параметра handle_unknown=\"ignore\".\n",
    "\n",
    "*Замечание.* На практике в некоторых версиях scikit-learn есть проблема с совместимостью `handle_unknown=\"ignore\"` и `drop=\"first\"` одновременно, поэтому вторым можно пожертвовать.\n",
    "\n",
    "Класс будет наследоваться от BaseDataPreprocessor, так что в него можно будет передавать нужные для BaseDataPreprocessor параметры. Также это позволит не переписывать заново то, что происходит в базовом классе, а просто взывать к ним с помощью конструкции `super`."
   ]
  },
  {
   "cell_type": "code",
   "execution_count": 22,
   "metadata": {
    "pycharm": {
     "name": "#%%\n"
    }
   },
   "outputs": [],
   "source": [
    "class OneHotPreprocessor(BaseDataPreprocessor):\n",
    "    def __init__(self, interesting_columns=None, **kwargs):\n",
    "        super(OneHotPreprocessor, self).__init__(**kwargs)\n",
    "        self.interesting_columns = interesting_columns\n",
    "        self.encoder = OneHotEncoder(handle_unknown=\"ignore\", sparse_output=False)\n",
    "    \n",
    "    def fit(self, data, *args):\n",
    "        categorical_data = data[self.interesting_columns]\n",
    "        self.encoder.fit(categorical_data)\n",
    "        return self\n",
    "\n",
    "    def transform(self, data):\n",
    "        categorical_data = data[self.interesting_columns]\n",
    "        encoded_data = self.encoder.transform(categorical_data)\n",
    "        \n",
    "        encoded_df = pd.DataFrame(encoded_data, columns=self.encoder.get_feature_names_out(self.interesting_columns))\n",
    "        \n",
    "        data = data.drop(columns=self.interesting_columns)\n",
    "        transformed_data = pd.concat([data.reset_index(drop=True), encoded_df.reset_index(drop=True)], axis=1)\n",
    "        \n",
    "        return transformed_data\n"
   ]
  },
  {
   "cell_type": "markdown",
   "metadata": {},
   "source": [
    "Обучите модель с добавленными категориальными фичами. Получилось ли улучшить её качество?"
   ]
  },
  {
   "cell_type": "markdown",
   "metadata": {},
   "source": [
    "### 7. Pipeline"
   ]
  },
  {
   "cell_type": "markdown",
   "metadata": {},
   "source": [
    "Представьте ситуацию. Прошел месяц с того момента, как вы построили модель, а теперь вам надо дообучить её на новых данных и активно применять для предсказания. Если вы не позаботились об инфраструктуре, то вам придётся рыскать по всему ноутбуку в поисках того, как вы предобрабатывали данные, какую модель учили, обязательно что-нибудь забудете и будете очень страдать. Поэтому человечество придумало пайплайны, которые позволяют объединить предобработку данных и обучение модели в один класс — pipeline. Его можно писать самому, либо взять из sklearn ([link](https://scikit-learn.org/stable/modules/generated/sklearn.pipeline.Pipeline.html)).\n",
    "\n",
    "**7. Напишите пайплайн, объединяющий использованную нами базовую предобработку данных (BaseDataPreprocessor и OneHotPreprocessor), а также линейную регрессию с L2-регуляризацией, и сдайте его в Контест.**"
   ]
  },
  {
   "cell_type": "code",
   "execution_count": 23,
   "metadata": {
    "pycharm": {
     "name": "#%%\n"
    }
   },
   "outputs": [],
   "source": [
    "def make_ultimate_pipeline():\n",
    "    preprocessor = ColumnTransformer(\n",
    "        transformers=[\n",
    "            ('num', StandardScaler(), ['Lot_Frontage',\n",
    " 'Lot_Area',\n",
    " 'Year_Built',\n",
    " 'Year_Remod_Add',\n",
    " 'Mas_Vnr_Area',\n",
    " 'BsmtFin_SF_1',\n",
    " 'BsmtFin_SF_2',\n",
    " 'Bsmt_Unf_SF',\n",
    " 'Total_Bsmt_SF',\n",
    " 'First_Flr_SF',\n",
    " 'Second_Flr_SF',\n",
    " 'Low_Qual_Fin_SF',\n",
    " 'Gr_Liv_Area',\n",
    " 'Bsmt_Full_Bath',\n",
    " 'Bsmt_Half_Bath',\n",
    " 'Full_Bath',\n",
    " 'Half_Bath',\n",
    " 'Bedroom_AbvGr',\n",
    " 'Kitchen_AbvGr',\n",
    " 'TotRms_AbvGrd',\n",
    " 'Fireplaces',\n",
    " 'Garage_Cars',\n",
    " 'Garage_Area',\n",
    " 'Wood_Deck_SF',\n",
    " 'Open_Porch_SF',\n",
    " 'Enclosed_Porch',\n",
    " 'Three_season_porch',\n",
    " 'Screen_Porch',\n",
    " 'Pool_Area',\n",
    " 'Misc_Val',\n",
    " 'Mo_Sold',\n",
    " 'Year_Sold',\n",
    " 'Longitude',\n",
    " 'Latitude']),\n",
    "            ('cat', OneHotEncoder(handle_unknown='ignore'), ['MS_SubClass',\n",
    " 'MS_Zoning',\n",
    " 'Street',\n",
    " 'Alley',\n",
    " 'Lot_Shape',\n",
    " 'Land_Contour',\n",
    " 'Utilities',\n",
    " 'Lot_Config',\n",
    " 'Land_Slope',\n",
    " 'Neighborhood',\n",
    " 'Condition_1',\n",
    " 'Condition_2',\n",
    " 'Bldg_Type',\n",
    " 'House_Style',\n",
    " 'Overall_Qual',\n",
    " 'Overall_Cond',\n",
    " 'Roof_Style',\n",
    " 'Roof_Matl',\n",
    " 'Exterior_1st',\n",
    " 'Exterior_2nd',\n",
    " 'Mas_Vnr_Type',\n",
    " 'Exter_Qual',\n",
    " 'Exter_Cond',\n",
    " 'Foundation',\n",
    " 'Bsmt_Qual',\n",
    " 'Bsmt_Cond',\n",
    " 'Bsmt_Exposure',\n",
    " 'BsmtFin_Type_1',\n",
    " 'BsmtFin_Type_2',\n",
    " 'Heating',\n",
    " 'Heating_QC',\n",
    " 'Central_Air',\n",
    " 'Electrical',\n",
    " 'Kitchen_Qual',\n",
    " 'Functional',\n",
    " 'Fireplace_Qu',\n",
    " 'Garage_Type',\n",
    " 'Garage_Finish',\n",
    " 'Garage_Qual',\n",
    " 'Garage_Cond',\n",
    " 'Paved_Drive',\n",
    " 'Pool_QC',\n",
    " 'Fence',\n",
    " 'Misc_Feature',\n",
    " 'Sale_Type',\n",
    " 'Sale_Condition'])\n",
    "        ]\n",
    "    )\n",
    "    \n",
    "    ridge = Ridge(alpha=1.0)\n",
    "    \n",
    "    pipeline = Pipeline(steps=[\n",
    "        ('preprocessor', preprocessor),\n",
    "        ('regressor', ridge)\n",
    "    ])\n",
    "    \n",
    "    return pipeline\n"
   ]
  },
  {
   "cell_type": "markdown",
   "metadata": {},
   "source": [
    "В этом пункте вы попробуете сделать что-то поинтереснее и загрузите плоды выших трудов в Контест.\n",
    "\n",
    "Попробуйте усовершенствовать предобработку данных, добавляя или выкидывая фичи, придумывая функции от признаков так, чтобы улучшить качество классификатора.\n",
    "\n",
    "Ещё несколько базовых идей о том, что можно было бы попробовать:\n",
    "\n",
    "- Постройте гистограммы значений признаков. Вы обнаружите, что некоторые из них почти всегда принимают одно и то же значение. Для начала их можно просто выкинуть.\n",
    "- Почистите выбросы. У некоторых объектов значения каких-то признаков могут сильно выбиваться, и это будет мешать регрессии обучиться. Вообще говоря, такие объекты можно выкидывать, но с текущей архитектурой пайплайна вам будет трудно это настроить. Так что вы можете пока заменять их на более разумные значения.\n",
    "- Мы добавили лишь несколько категориальных признаков, а на самом деле многие из них могут быть полезными.\n",
    "- Можно дискретизовать непрерывные фичи. Самый банальный пример: если непрерывная фича принимает всего несколько значений, её можно попробовать проинтерпретировать, как категориальную, и подать в one-hot энкодер. Но можно и как-то ещё разбивать по порогам.\n",
    "- Можно делать и более сложные преобразования. Например в датасете есть координаты квартиры, которые по идее сами по себе мало чего дают нашему регрессору. С другой стороны, по ним можно оценить центр города (или просто найти его на карте) и использовать в качестве фичи расстояние до центра города, которое может естественным образом влиять на цену жилья.\n",
    "- Не забывайте настраивать коэффициент регуляризации: для разных датасетов оптимальное значение будет разным.\n",
    "\n",
    "**В контест вам нужно будет сдать свой класс модели**. Он будет обучаться и тестироваться на новом и неизвестном вам разбиении датасета на трейн и тест по метрике `root_mean_squared_logarithmic_error`. За значение метрики 0.185 вы получите 1 балл (метрика будет округляться до трёх знаков после запятой). Для этого должно быть достаточно нормально написать OneHotPreprocessor и использовать ExponentialLinearRegression с правильно подобранным коэффициентом регуляризации. Если вам удалось получить метрику меньше, то вы получите\n",
    "\n",
    "`1 + min(1, (0.19 - x) / (0.19 - 0.15))`\n",
    "\n",
    "балла.\n",
    "\n",
    "В контесте будет специально проверено, что вы сдаёте именно `Pipeline`.\n",
    "\n",
    "Не забывайте, что вместе с пайплайном вам нужно отправить и все самописные классы, которые в нём участвуют.\n"
   ]
  }
 ],
 "metadata": {
  "kernelspec": {
   "display_name": "Python 3",
   "language": "python",
   "name": "python3"
  },
  "language_info": {
   "codemirror_mode": {
    "name": "ipython",
    "version": 3
   },
   "file_extension": ".py",
   "mimetype": "text/x-python",
   "name": "python",
   "nbconvert_exporter": "python",
   "pygments_lexer": "ipython3",
   "version": "3.12.5"
  }
 },
 "nbformat": 4,
 "nbformat_minor": 4
}
